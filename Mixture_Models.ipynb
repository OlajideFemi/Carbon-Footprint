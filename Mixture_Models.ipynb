{
  "nbformat": 4,
  "nbformat_minor": 0,
  "metadata": {
    "colab": {
      "provenance": [],
      "authorship_tag": "ABX9TyNc4OOMj4Deg6Amg7bDnz0M",
      "include_colab_link": true
    },
    "kernelspec": {
      "name": "python3",
      "display_name": "Python 3"
    },
    "language_info": {
      "name": "python"
    }
  },
  "cells": [
    {
      "cell_type": "markdown",
      "metadata": {
        "id": "view-in-github",
        "colab_type": "text"
      },
      "source": [
        "<a href=\"https://colab.research.google.com/github/OlajideFemi/Carbon-Footprint/blob/main/Mixture_Models.ipynb\" target=\"_parent\"><img src=\"https://colab.research.google.com/assets/colab-badge.svg\" alt=\"Open In Colab\"/></a>"
      ]
    },
    {
      "cell_type": "code",
      "execution_count": 5,
      "metadata": {
        "colab": {
          "base_uri": "https://localhost:8080/",
          "height": 110
        },
        "id": "LGsmTc19jKtZ",
        "outputId": "2ceb11ae-26c0-4723-b287-da4c90b9695b"
      },
      "outputs": [
        {
          "output_type": "error",
          "ename": "SyntaxError",
          "evalue": "invalid syntax (ipython-input-3667588727.py, line 4)",
          "traceback": [
            "\u001b[0;36m  File \u001b[0;32m\"/tmp/ipython-input-3667588727.py\"\u001b[0;36m, line \u001b[0;32m4\u001b[0m\n\u001b[0;31m    init pi = np.ones(H)/H\u001b[0m\n\u001b[0m         ^\u001b[0m\n\u001b[0;31mSyntaxError\u001b[0m\u001b[0;31m:\u001b[0m invalid syntax\n"
          ]
        }
      ],
      "source": [
        "# Inputs: V (N x D with values {0,1} and np.nan for missing), H=2\n",
        "# Outputs: pi (H,), theta (H x D), responsibilities R (N x H)\n",
        "\n",
        "init pi = np.ones(H)/H\n",
        "init theta = rng.uniform(0.25, 0.75, size=(H, D))\n",
        "\n",
        "for iter in range(max_iters):\n",
        "    # E-step\n",
        "    logR = np.log(pi)[None, :]  # (1 x H) broadcast to (N x H)\n",
        "    for k in range(H):\n",
        "        # add sum over observed dims: v*log(theta) + (1-v)*log(1-theta)\n",
        "        term = 0\n",
        "        for d in range(D):\n",
        "            obs = ~np.isnan(V[:, d])\n",
        "            v = V[obs, d]\n",
        "            loglik = v*np.log(theta[k, d]) + (1 - v)*np.log(1 - theta[k, d])\n",
        "            logR[obs, k] += loglik\n",
        "    # normalize\n",
        "    R = softmax(logR, axis=1)\n",
        "\n",
        "    # M-step\n",
        "    Nk = R.sum(axis=0)              # (H,)\n",
        "    pi = Nk / N\n",
        "    for k in range(H):\n",
        "        for d in range(D):\n",
        "            obs = ~np.isnan(V[:, d])\n",
        "            num = (R[obs, k] * V[obs, d]).sum()\n",
        "            den = (R[obs, k]).sum()\n",
        "            if den > 0:\n",
        "                theta[k, d] = num / den\n",
        "            # else: keep theta[k,d] or apply prior\n"
      ]
    },
    {
      "cell_type": "code",
      "source": [],
      "metadata": {
        "id": "3DOixZ9SsIb9"
      },
      "execution_count": null,
      "outputs": []
    },
    {
      "cell_type": "code",
      "source": [],
      "metadata": {
        "id": "tHVK3IQosIfj"
      },
      "execution_count": null,
      "outputs": []
    },
    {
      "cell_type": "code",
      "source": [],
      "metadata": {
        "id": "VaLJr_l9sIiD"
      },
      "execution_count": null,
      "outputs": []
    },
    {
      "cell_type": "code",
      "source": [],
      "metadata": {
        "id": "wjaDUpwNsIm0"
      },
      "execution_count": null,
      "outputs": []
    },
    {
      "cell_type": "code",
      "source": [],
      "metadata": {
        "id": "u4-fm1FDsIps"
      },
      "execution_count": null,
      "outputs": []
    },
    {
      "cell_type": "code",
      "source": [
        "import numpy as np\n",
        "import pandas as pd\n",
        "\n",
        "# Set a seed for reproducibility\n",
        "np.random.seed(42)\n",
        "\n",
        "# Parameters\n",
        "num_respondents = 150\n",
        "num_questions = 5\n",
        "missing_percentage = 0.30\n",
        "\n",
        "# Generate a base dataset with 'yes' (1) and 'no' (0) responses\n",
        "# We use a random binomial distribution for this example\n",
        "data = np.random.randint(2, size=(num_respondents, num_questions))\n",
        "df = pd.DataFrame(data, columns=[f'Q{i+1}' for i in range(num_questions)])\n",
        "\n",
        "# Convert numerical responses to 'Yes' and 'No' for clarity\n",
        "df = df.replace({1: 'Yes', 0: 'No'})\n",
        "\n",
        "# Introduce missing data\n",
        "missing_mask = np.random.rand(num_respondents, num_questions) < missing_percentage\n",
        "df_missing = df.mask(missing_mask, pd.NA)\n",
        "\n",
        "# Add a 'Respondent_ID' column\n",
        "df_missing.insert(0, 'Respondent_ID', range(1, num_respondents + 1))\n",
        "\n",
        "# Save the DataFrame to a CSV file\n",
        "output_filename = 'questionnaire_data.csv'\n",
        "df_missing.to_csv(output_filename, index=False)\n",
        "\n",
        "print(f\"Dataset generated and saved as '{output_filename}'\")\n",
        "print(\"\\nFirst 5 rows of the generated dataset:\")\n",
        "print(df_missing.head())\n",
        "print(f\"\\nTotal missing values: {df_missing.isnull().sum().sum()}\")\n",
        "print(f\"Total possible values: {num_respondents * num_questions}\")"
      ],
      "metadata": {
        "colab": {
          "base_uri": "https://localhost:8080/"
        },
        "id": "g2jwEbpKjZ1j",
        "outputId": "c036971e-5901-43ee-8fd7-205d3fe65c3f"
      },
      "execution_count": 1,
      "outputs": [
        {
          "output_type": "stream",
          "name": "stdout",
          "text": [
            "Dataset generated and saved as 'questionnaire_data.csv'\n",
            "\n",
            "First 5 rows of the generated dataset:\n",
            "   Respondent_ID    Q1    Q2    Q3   Q4    Q5\n",
            "0              1    No   Yes  <NA>   No  <NA>\n",
            "1              2  <NA>    No    No   No   Yes\n",
            "2              3    No  <NA>  <NA>   No   Yes\n",
            "3              4    No   Yes   Yes  Yes    No\n",
            "4              5   Yes    No   Yes  Yes   Yes\n",
            "\n",
            "Total missing values: 237\n",
            "Total possible values: 750\n"
          ]
        }
      ]
    },
    {
      "cell_type": "code",
      "source": [
        "df_missing.shape"
      ],
      "metadata": {
        "colab": {
          "base_uri": "https://localhost:8080/"
        },
        "id": "J-jiDDh_jZ4k",
        "outputId": "5cec44b7-8cdc-47ee-81a6-be8956eb1530"
      },
      "execution_count": 3,
      "outputs": [
        {
          "output_type": "execute_result",
          "data": {
            "text/plain": [
              "(150, 6)"
            ]
          },
          "metadata": {},
          "execution_count": 3
        }
      ]
    },
    {
      "cell_type": "code",
      "source": [],
      "metadata": {
        "id": "jzIZQlQujZ7M"
      },
      "execution_count": null,
      "outputs": []
    },
    {
      "cell_type": "code",
      "source": [],
      "metadata": {
        "id": "mo09aiyesKQn"
      },
      "execution_count": null,
      "outputs": []
    },
    {
      "cell_type": "code",
      "source": [],
      "metadata": {
        "id": "XtcqawljsKVD"
      },
      "execution_count": null,
      "outputs": []
    },
    {
      "cell_type": "code",
      "source": [],
      "metadata": {
        "id": "mPJykUnhsKYy"
      },
      "execution_count": null,
      "outputs": []
    },
    {
      "cell_type": "code",
      "source": [],
      "metadata": {
        "id": "i9tcgSmvsKa4"
      },
      "execution_count": null,
      "outputs": []
    }
  ]
}
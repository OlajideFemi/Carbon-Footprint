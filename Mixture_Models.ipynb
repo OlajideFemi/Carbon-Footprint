{
  "nbformat": 4,
  "nbformat_minor": 0,
  "metadata": {
    "colab": {
      "provenance": [],
      "authorship_tag": "ABX9TyMMH+jUij+cSh+Nt5NpzYWB",
      "include_colab_link": true
    },
    "kernelspec": {
      "name": "python3",
      "display_name": "Python 3"
    },
    "language_info": {
      "name": "python"
    }
  },
  "cells": [
    {
      "cell_type": "markdown",
      "metadata": {
        "id": "view-in-github",
        "colab_type": "text"
      },
      "source": [
        "<a href=\"https://colab.research.google.com/github/OlajideFemi/Carbon-Footprint/blob/main/Mixture_Models.ipynb\" target=\"_parent\"><img src=\"https://colab.research.google.com/assets/colab-badge.svg\" alt=\"Open In Colab\"/></a>"
      ]
    },
    {
      "cell_type": "code",
      "execution_count": null,
      "metadata": {
        "id": "LGsmTc19jKtZ"
      },
      "outputs": [],
      "source": [
        "# Inputs: V (N x D with values {0,1} and np.nan for missing), H=2\n",
        "# Outputs: pi (H,), theta (H x D), responsibilities R (N x H)\n",
        "\n",
        "init pi = np.ones(H)/H\n",
        "init theta = rng.uniform(0.25, 0.75, size=(H, D))\n",
        "\n",
        "for iter in range(max_iters):\n",
        "    # E-step\n",
        "    logR = np.log(pi)[None, :]  # (1 x H) broadcast to (N x H)\n",
        "    for k in range(H):\n",
        "        # add sum over observed dims: v*log(theta) + (1-v)*log(1-theta)\n",
        "        term = 0\n",
        "        for d in range(D):\n",
        "            obs = ~np.isnan(V[:, d])\n",
        "            v = V[obs, d]\n",
        "            loglik = v*np.log(theta[k, d]) + (1 - v)*np.log(1 - theta[k, d])\n",
        "            logR[obs, k] += loglik\n",
        "    # normalize\n",
        "    R = softmax(logR, axis=1)\n",
        "\n",
        "    # M-step\n",
        "    Nk = R.sum(axis=0)              # (H,)\n",
        "    pi = Nk / N\n",
        "    for k in range(H):\n",
        "        for d in range(D):\n",
        "            obs = ~np.isnan(V[:, d])\n",
        "            num = (R[obs, k] * V[obs, d]).sum()\n",
        "            den = (R[obs, k]).sum()\n",
        "            if den > 0:\n",
        "                theta[k, d] = num / den\n",
        "            # else: keep theta[k,d] or apply prior\n"
      ]
    },
    {
      "cell_type": "code",
      "source": [],
      "metadata": {
        "id": "g2jwEbpKjZ1j"
      },
      "execution_count": null,
      "outputs": []
    },
    {
      "cell_type": "code",
      "source": [],
      "metadata": {
        "id": "J-jiDDh_jZ4k"
      },
      "execution_count": null,
      "outputs": []
    },
    {
      "cell_type": "code",
      "source": [],
      "metadata": {
        "id": "jzIZQlQujZ7M"
      },
      "execution_count": null,
      "outputs": []
    },
    {
      "cell_type": "code",
      "source": [],
      "metadata": {
        "id": "pJkDI2-tjZ9r"
      },
      "execution_count": null,
      "outputs": []
    }
  ]
}
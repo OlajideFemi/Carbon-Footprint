{
  "nbformat": 4,
  "nbformat_minor": 0,
  "metadata": {
    "colab": {
      "provenance": [],
      "mount_file_id": "1sfkRn6d3WH3R1J6UQtMUOP4Wts_8R1Rd",
      "authorship_tag": "ABX9TyODvZwtDN7JzDrr3T9vmXvs",
      "include_colab_link": true
    },
    "kernelspec": {
      "name": "python3",
      "display_name": "Python 3"
    },
    "language_info": {
      "name": "python"
    }
  },
  "cells": [
    {
      "cell_type": "markdown",
      "metadata": {
        "id": "view-in-github",
        "colab_type": "text"
      },
      "source": [
        "<a href=\"https://colab.research.google.com/github/OlajideFemi/Carbon-Footprint/blob/main/Rename_files_Dynamically.ipynb\" target=\"_parent\"><img src=\"https://colab.research.google.com/assets/colab-badge.svg\" alt=\"Open In Colab\"/></a>"
      ]
    },
    {
      "cell_type": "markdown",
      "source": [],
      "metadata": {
        "id": "JwJnnNTjhRJ6"
      }
    },
    {
      "cell_type": "code",
      "source": [
        "pip install python-Levenshtein"
      ],
      "metadata": {
        "colab": {
          "base_uri": "https://localhost:8080/"
        },
        "id": "fQX1i4EwhS4Y",
        "outputId": "f02c392a-0808-4731-cd30-c49fab140a94"
      },
      "execution_count": 2,
      "outputs": [
        {
          "output_type": "stream",
          "name": "stdout",
          "text": [
            "Collecting python-Levenshtein\n",
            "  Downloading python_levenshtein-0.27.1-py3-none-any.whl.metadata (3.7 kB)\n",
            "Collecting Levenshtein==0.27.1 (from python-Levenshtein)\n",
            "  Downloading levenshtein-0.27.1-cp311-cp311-manylinux_2_17_x86_64.manylinux2014_x86_64.whl.metadata (3.6 kB)\n",
            "Collecting rapidfuzz<4.0.0,>=3.9.0 (from Levenshtein==0.27.1->python-Levenshtein)\n",
            "  Downloading rapidfuzz-3.13.0-cp311-cp311-manylinux_2_17_x86_64.manylinux2014_x86_64.whl.metadata (12 kB)\n",
            "Downloading python_levenshtein-0.27.1-py3-none-any.whl (9.4 kB)\n",
            "Downloading levenshtein-0.27.1-cp311-cp311-manylinux_2_17_x86_64.manylinux2014_x86_64.whl (161 kB)\n",
            "\u001b[2K   \u001b[90m━━━━━━━━━━━━━━━━━━━━━━━━━━━━━━━━━━━━━━━━\u001b[0m \u001b[32m161.7/161.7 kB\u001b[0m \u001b[31m4.0 MB/s\u001b[0m eta \u001b[36m0:00:00\u001b[0m\n",
            "\u001b[?25hDownloading rapidfuzz-3.13.0-cp311-cp311-manylinux_2_17_x86_64.manylinux2014_x86_64.whl (3.1 MB)\n",
            "\u001b[2K   \u001b[90m━━━━━━━━━━━━━━━━━━━━━━━━━━━━━━━━━━━━━━━━\u001b[0m \u001b[32m3.1/3.1 MB\u001b[0m \u001b[31m39.1 MB/s\u001b[0m eta \u001b[36m0:00:00\u001b[0m\n",
            "\u001b[?25hInstalling collected packages: rapidfuzz, Levenshtein, python-Levenshtein\n",
            "Successfully installed Levenshtein-0.27.1 python-Levenshtein-0.27.1 rapidfuzz-3.13.0\n"
          ]
        }
      ]
    },
    {
      "cell_type": "code",
      "source": [
        "import os\n",
        "from Levenshtein import distance as levenshtein_distance # Make sure you have this library installed (pip install python-Levenshtein)\n",
        "\n",
        "# (Paste your provided functions here: standardize_deepdive_filename and _move_duplicates)\n",
        "\n",
        "if __name__ == \"__main__\":\n",
        "    target_folder = \"/content/drive/MyDrive/files\" # Replace with the actual path\n",
        "    archive_location = \"/content/drive/MyDrive/files/archive/folder\" # Optional: Replace or set to None if you want to delete duplicates\n",
        "\n",
        "    # Ensure the target folder exists for demonstration purposes\n",
        "    os.makedirs(target_folder, exist_ok=True)\n"
      ],
      "metadata": {
        "id": "OTGLH5ELhcD4"
      },
      "execution_count": 12,
      "outputs": []
    },
    {
      "cell_type": "code",
      "execution_count": 13,
      "metadata": {
        "id": "idmF05o7g33z"
      },
      "outputs": [],
      "source": [
        "import os\n",
        "import re\n",
        "import shutil\n",
        "from datetime import datetime\n",
        "from Levenshtein import distance as levenshtein_distance\n",
        "\n",
        "def standardize_deepdive_filename(folder_path, archive_folder=None, dry_run=False):\n",
        "    \"\"\"\n",
        "    Standardizes Deep Dive feedback filenames with comprehensive handling.\n",
        "\n",
        "    Features:\n",
        "    - Uses Levenshtein distance for optimal matching\n",
        "    - Archives instead of deletes when archive_folder specified\n",
        "    - Dry run mode for testing\n",
        "    - Detailed logging\n",
        "    - Atomic operations for safety\n",
        "\n",
        "    Args:\n",
        "        folder_path: Directory containing files to process\n",
        "        archive_folder: Where to move duplicates (None = delete)\n",
        "        dry_run: Test mode (no actual changes)\n",
        "\n",
        "    Returns:\n",
        "        Path to standardized file, or None if not found\n",
        "    \"\"\"\n",
        "    standardized_name = \"Deep Dive feedback survey.csv\"\n",
        "    standardized_path = os.path.join(folder_path, standardized_name)\n",
        "\n",
        "    # Configure logging\n",
        "    def log(action, message):\n",
        "        prefix = \"[DRY RUN] \" if dry_run else \"\"\n",
        "        print(f\"{prefix}{action} {message}\")\n",
        "\n",
        "    # Find candidate files\n",
        "    candidates = _find_candidate_files(folder_path, standardized_name)\n",
        "\n",
        "    # Handle no matches case\n",
        "    if not candidates:\n",
        "        if os.path.exists(standardized_path):\n",
        "            log(\"✓\", \"Using existing standardized file\")\n",
        "            return standardized_path if not dry_run else None\n",
        "        log(\"⚠️\", \"No matching Deep Dive feedback files found\")\n",
        "        return None\n",
        "\n",
        "    # Sort candidates by similarity and recency\n",
        "    candidates.sort(key=lambda x: (x['distance'], -x['mtime']))\n",
        "    best_candidate = candidates[0]\n",
        "\n",
        "    # Handle already standardized case\n",
        "    if best_candidate['distance'] == 0:\n",
        "        log(\"✓\", \"Correct file already exists\")\n",
        "        _handle_duplicates(candidates[1:], archive_folder, dry_run)\n",
        "        return standardized_path if not dry_run else None\n",
        "\n",
        "    # Standardization process\n",
        "    try:\n",
        "        # Remove existing standardized file if needed\n",
        "        if os.path.exists(standardized_path) and not dry_run:\n",
        "            os.remove(standardized_path)\n",
        "            log(\"🗑️\", \"Removed outdated standardized file\")\n",
        "\n",
        "        # Perform the rename\n",
        "        if not dry_run:\n",
        "            os.rename(best_candidate['path'], standardized_path)\n",
        "        log(\"🔄\", f\"Renamed '{best_candidate['original']}' (distance: {best_candidate['distance']}) → '{standardized_name}'\")\n",
        "\n",
        "        # Handle duplicates\n",
        "        _handle_duplicates(candidates[1:], archive_folder, dry_run)\n",
        "\n",
        "        return standardized_path if not dry_run else None\n",
        "\n",
        "    except OSError as e:\n",
        "        log(\"⚠️\", f\"Operation failed: {e}\")\n",
        "        return None\n",
        "\n",
        "def _find_candidate_files(folder_path, standardized_name):\n",
        "    \"\"\"Identify potential Deep Dive files with metadata\"\"\"\n",
        "    base_pattern = re.compile(r'deep.*dive.*feedback|feedback.*deep.*dive', re.IGNORECASE)\n",
        "    candidates = []\n",
        "\n",
        "    for filename in os.listdir(folder_path):\n",
        "        filepath = os.path.join(folder_path, filename)\n",
        "        if os.path.isdir(filepath) or not filename.lower().endswith('.csv'):\n",
        "            continue\n",
        "\n",
        "        if base_pattern.search(filename):\n",
        "            candidates.append({\n",
        "                'original': filename,\n",
        "                'path': filepath,\n",
        "                'mtime': os.path.getmtime(filepath),\n",
        "                'distance': levenshtein_distance(\n",
        "                    filename.casefold(),\n",
        "                    standardized_name.casefold()\n",
        "                )\n",
        "            })\n",
        "    return candidates\n",
        "\n",
        "def _handle_duplicates(duplicates, archive_folder, dry_run):\n",
        "    \"\"\"Move or delete duplicate files\"\"\"\n",
        "    for dup in duplicates:\n",
        "        try:\n",
        "            if archive_folder:\n",
        "                if not dry_run:\n",
        "                    os.makedirs(archive_folder, exist_ok=True)\n",
        "                    destination = os.path.join(archive_folder, dup['original'])\n",
        "                    shutil.move(dup['path'], destination)\n",
        "                print(f\"📦 Moved duplicate to archive: {dup['original']} (distance: {dup['distance']})\")\n",
        "            else:\n",
        "                if not dry_run:\n",
        "                    os.remove(dup['path'])\n",
        "                print(f\"🗑️ Removed duplicate: {dup['original']} (distance: {dup['distance']})\")\n",
        "        except Exception as e:\n",
        "            print(f\"⚠️ Failed to handle duplicate '{dup['original']}': {e}\")\n",
        "\n"
      ]
    },
    {
      "cell_type": "code",
      "source": [],
      "metadata": {
        "id": "LGxKWvcXhcKR"
      },
      "execution_count": null,
      "outputs": []
    },
    {
      "cell_type": "code",
      "source": [
        "# Example usage\n",
        "if __name__ == \"__main__\":\n",
        "    # Test run\n",
        "    test_folder = \"/content/drive/MyDrive/files\"\n",
        "    archive = \"/content/drive/MyDrive/files/archive\"\n",
        "\n",
        "    print(\"=== DRY RUN ===\")\n",
        "    standardize_deepdive_filename(test_folder, archive, dry_run=True)\n",
        "\n",
        "    print(\"\\n=== ACTUAL RUN ===\")\n",
        "    result = standardize_deepdive_filename(test_folder, archive)\n",
        "    print(f\"\\nResult: {result}\")"
      ],
      "metadata": {
        "id": "AgvMckdihcN8"
      },
      "execution_count": 14,
      "outputs": []
    },
    {
      "cell_type": "code",
      "source": [],
      "metadata": {
        "id": "24geaLsAhcRM"
      },
      "execution_count": null,
      "outputs": []
    }
  ]
}
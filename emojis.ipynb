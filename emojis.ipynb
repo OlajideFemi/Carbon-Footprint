{
  "nbformat": 4,
  "nbformat_minor": 0,
  "metadata": {
    "colab": {
      "provenance": [],
      "authorship_tag": "ABX9TyOz1CfhgIkk1M8SXjJvFuZG",
      "include_colab_link": true
    },
    "kernelspec": {
      "name": "python3",
      "display_name": "Python 3"
    },
    "language_info": {
      "name": "python"
    }
  },
  "cells": [
    {
      "cell_type": "markdown",
      "metadata": {
        "id": "view-in-github",
        "colab_type": "text"
      },
      "source": [
        "<a href=\"https://colab.research.google.com/github/OlajideFemi/Carbon-Footprint/blob/main/emojis.ipynb\" target=\"_parent\"><img src=\"https://colab.research.google.com/assets/colab-badge.svg\" alt=\"Open In Colab\"/></a>"
      ]
    },
    {
      "cell_type": "code",
      "execution_count": 2,
      "metadata": {
        "colab": {
          "base_uri": "https://localhost:8080/"
        },
        "id": "lKjPAhJLbHfs",
        "outputId": "d87bd879-ab47-43b7-df6c-f3410219a9f9"
      },
      "outputs": [
        {
          "output_type": "stream",
          "name": "stdout",
          "text": [
            "📌 Productive Emoji Reference List 📌\n",
            "\n",
            "📈  →  Trending Up / Growth\n",
            "📉  →  Trending Down / Decline\n",
            "📊  →  Bar Chart / Analytics\n",
            "📋  →  Clipboard / Task List\n",
            "🧾  →  Receipt / Report\n",
            "📅  →  Calendar / Schedule\n",
            "⏰  →  Alarm Clock / Deadline\n",
            "✅  →  Checkmark / Task Completed\n",
            "❌  →  Error / Cancelled\n",
            "🔄  →  Sync / Processing\n",
            "💾  →  Save\n",
            "📂  →  Folder / File Directory\n",
            "🧠  →  Brain / AI / Thinking\n",
            "🔍  →  Search / Investigate\n",
            "🧮  →  Calculator / Calculation\n",
            "🚀  →  Rocket / Launch Project\n",
            "🛠️  →  Wrench / Build or Fix\n",
            "💡  →  Light Bulb / New Idea\n",
            "📦  →  Package / Deployment\n",
            "🔧  →  Wrench / Configure\n",
            "📎  →  Paperclip / Attachment\n",
            "📬  →  Inbox / Feedback\n",
            "💻  →  Laptop / Coding\n",
            "👨‍💻  →  Male Developer\n",
            "👩‍💻  →  Female Developer\n",
            "🔐  →  Locked / Security\n",
            "🧑‍🔬  →  Scientist / Research\n"
          ]
        }
      ],
      "source": [
        "# Productive Emojis Dictionary\n",
        "productive_emojis = {\n",
        "    \"📈\": \"Trending Up / Growth\",\n",
        "    \"📉\": \"Trending Down / Decline\",\n",
        "    \"📊\": \"Bar Chart / Analytics\",\n",
        "    \"📋\": \"Clipboard / Task List\",\n",
        "    \"🧾\": \"Receipt / Report\",\n",
        "    \"📅\": \"Calendar / Schedule\",\n",
        "    \"⏰\": \"Alarm Clock / Deadline\",\n",
        "    \"✅\": \"Checkmark / Task Completed\",\n",
        "    \"❌\": \"Error / Cancelled\",\n",
        "    \"🔄\": \"Sync / Processing\",\n",
        "    \"💾\": \"Save\",\n",
        "    \"📂\": \"Folder / File Directory\",\n",
        "    \"🧠\": \"Brain / AI / Thinking\",\n",
        "    \"🔍\": \"Search / Investigate\",\n",
        "    \"🧮\": \"Calculator / Calculation\",\n",
        "    \"🚀\": \"Rocket / Launch Project\",\n",
        "    \"🛠️\": \"Wrench / Build or Fix\",\n",
        "    \"💡\": \"Light Bulb / New Idea\",\n",
        "    \"📦\": \"Package / Deployment\",\n",
        "    \"🔧\": \"Wrench / Configure\",\n",
        "    \"📎\": \"Paperclip / Attachment\",\n",
        "    \"📬\": \"Inbox / Feedback\",\n",
        "    \"💻\": \"Laptop / Coding\",\n",
        "    \"👨‍💻\": \"Male Developer\",\n",
        "    \"👩‍💻\": \"Female Developer\",\n",
        "    \"🔐\": \"Locked / Security\",\n",
        "    \"🧑‍🔬\": \"Scientist / Research\"\n",
        "}\n",
        "\n",
        "# Print each emoji with its meaning\n",
        "print(\"📌 Productive Emoji Reference List 📌\\n\")\n",
        "for emoji, description in productive_emojis.items():\n",
        "    print(f\"{emoji}  →  {description}\")\n"
      ]
    }
  ]
}